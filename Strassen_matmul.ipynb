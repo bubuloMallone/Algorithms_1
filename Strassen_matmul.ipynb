{
  "nbformat": 4,
  "nbformat_minor": 0,
  "metadata": {
    "colab": {
      "provenance": [],
      "authorship_tag": "ABX9TyOGvj2DqVSqSUqkSqefUyGs",
      "include_colab_link": true
    },
    "kernelspec": {
      "name": "python3",
      "display_name": "Python 3"
    },
    "language_info": {
      "name": "python"
    }
  },
  "cells": [
    {
      "cell_type": "markdown",
      "metadata": {
        "id": "view-in-github",
        "colab_type": "text"
      },
      "source": [
        "<a href=\"https://colab.research.google.com/github/bubuloMallone/Algorithms_1/blob/main/Strassen_matmul.ipynb\" target=\"_parent\"><img src=\"https://colab.research.google.com/assets/colab-badge.svg\" alt=\"Open In Colab\"/></a>"
      ]
    },
    {
      "cell_type": "markdown",
      "source": [
        "# Strassen's Algorithm\n",
        "\n",
        "**The problem:** we want to multiply two ($n \\times n$) matrices $A$ and $B$. The of course there is a brute force algorithmic approach that just implements iteratively the matrix multiplication operation $M = A⋅B$, i.e.\n",
        "$$M_{ij} = \\sum_{k=1}^n A_{ik} B_{kj}$$\n",
        "\n",
        "Clearly, this alogorithm scales with size as $O(n^3)$, as for each of the $n^2$ pairs $(i,j)$ we need to carry $O(n)$ operations.\n",
        "\n",
        "The Strassen's Matrix Multiplication Algorithm is a clever divide-and-conquer method that reduces the computational cost of performing square matrices multiplications. In particular, .... explain subcubic complexity!"
      ],
      "metadata": {
        "id": "gsYpMHvqE8E1"
      }
    },
    {
      "cell_type": "markdown",
      "source": [
        "1. If $n=1$, multiply scalars directly.\n",
        "2. Otherwise, split each matrix into 4 blocks of size $n / 2 \\times n / 2$ :\n",
        "\n",
        "$$\n",
        "A=\\left[\\begin{array}{ll}\n",
        "A_{11} & A_{12} \\\\\n",
        "A_{21} & A_{22}\n",
        "\\end{array}\\right], \\quad B=\\left[\\begin{array}{ll}\n",
        "B_{11} & B_{12} \\\\\n",
        "B_{21} & B_{22}\n",
        "\\end{array}\\right]\n",
        "$$\n",
        "\n",
        "3. Define 7 products (Strassen's trick):\n",
        "\n",
        "$$\n",
        "\\begin{aligned}\n",
        "& M_1=\\left(A_{11}+A_{22}\\right)\\left(B_{11}+B_{22}\\right) \\\\\n",
        "& M_2=\\left(A_{21}+A_{22}\\right) B_{11} \\\\\n",
        "& M_3=A_{11}\\left(B_{12}-B_{22}\\right) \\\\\n",
        "& M_4=A_{22}\\left(B_{21}-B_{11}\\right) \\\\\n",
        "& M_5=\\left(A_{11}+A_{12}\\right) B_{22} \\\\\n",
        "& M_6=\\left(A_{21}-A_{11}\\right)\\left(B_{11}+B_{12}\\right) \\\\\n",
        "& M_7=\\left(A_{12}-A_{22}\\right)\\left(B_{21}+B_{22}\\right)\n",
        "\\end{aligned}\n",
        "$$\n",
        "\n",
        "4. Combine them to get the result blocks:\n",
        "\n",
        "$$\n",
        "\\begin{aligned}\n",
        "& C_{11}=M_1+M_4-M_5+M_7 \\\\\n",
        "& C_{12}=M_3+M_5 \\\\\n",
        "& C_{21}=M_2+M_4 \\\\\n",
        "& C_{22}=M_1-M_2+M_3+M_6\n",
        "\\end{aligned}\n",
        "$$\n",
        "\n",
        "5. Recursively compute until base case."
      ],
      "metadata": {
        "id": "3ApmcdKtKDd4"
      }
    },
    {
      "cell_type": "code",
      "execution_count": null,
      "metadata": {
        "id": "hpTukjSgE6fL"
      },
      "outputs": [],
      "source": []
    }
  ]
}