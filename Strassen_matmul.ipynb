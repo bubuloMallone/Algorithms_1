{
  "nbformat": 4,
  "nbformat_minor": 0,
  "metadata": {
    "colab": {
      "provenance": [],
      "authorship_tag": "ABX9TyO+sSGRUxLO2+MRNiW/u9Ri",
      "include_colab_link": true
    },
    "kernelspec": {
      "name": "python3",
      "display_name": "Python 3"
    },
    "language_info": {
      "name": "python"
    }
  },
  "cells": [
    {
      "cell_type": "markdown",
      "metadata": {
        "id": "view-in-github",
        "colab_type": "text"
      },
      "source": [
        "<a href=\"https://colab.research.google.com/github/bubuloMallone/Algorithms_1/blob/main/Strassen_matmul.ipynb\" target=\"_parent\"><img src=\"https://colab.research.google.com/assets/colab-badge.svg\" alt=\"Open In Colab\"/></a>"
      ]
    },
    {
      "cell_type": "markdown",
      "source": [
        "# Strassen's Algorithm\n",
        "\n",
        "**The problem:** we want to multiply two ($n \\times n$) matrices $A$ and $B$. The of course there is a brute force algorithmic approach that just implements iteratively the matrix multiplication operation $C = A⋅B$, i.e.\n",
        "$$C_{ij} = \\sum_{k=1}^n A_{ik} B_{kj}$$\n",
        "\n",
        "Clearly, this alogorithm scales with size as $O(n^3)$, as for each of the $n^2$ pairs $(i,j)$ we need to carry $O(n)$ operations.\n",
        "\n",
        "**Strassen's Matrix Multiplication Algorithm** is a clever divide-and-conquer method that reduces the computational cost of performing square matrices multiplications. In particular, the algorithm computes 7 matrices of relative size $(n/2 \\times n/2)$ recursively, with anadditional computational overhead outside the recursions of $O(n^2)$ due to matrix additions. The operational cost of the algorithm can be then described as\n",
        "$$T(n) \\leq 7 T(n/2) + O(n^2)$$\n",
        "This means that the upper bound to the runtime cost of the algorithm can be determined by means of the Master Method, considering the parameters $a=7$, $b=2$ and $d=2$. The Master Method states that:\n",
        "\n",
        "if the runtime cost of a recursive algorithm can be described as $T(N) \\leq a T(N / b)+O\\left(N^d\\right)$, with $a, b, d$ positive integers, then\n",
        "$$\n",
        "T(N)= \\begin{cases}O\\left(N^d \\log N\\right) & \\text { if } a=b^d \\\\ O\\left(N^d\\right) & \\text { if } a<b^d \\\\ O\\left(N^{\\log_b a} \\right) & \\text { if } a>b^d\\end{cases}\n",
        "$$\n",
        "\n",
        "The Strassen's algorithms clearly belongs to the latter case, yielding to a **sub-cubic** operational cost of $T(n) = O(n^{log_2 7})$."
      ],
      "metadata": {
        "id": "gsYpMHvqE8E1"
      }
    },
    {
      "cell_type": "markdown",
      "source": [
        "Here follows a more precise outline of the algorithm:\n",
        "\n",
        "1. If $n=1$, multiply scalars directly (base-case scenario).\n",
        "\n",
        "2. Otherwise, split each matrix into 4 blocks of size $(n / 2 \\times n / 2)$:\n",
        "\n",
        "$$\n",
        "A=\\left[\\begin{array}{ll}\n",
        "A_{11} & A_{12} \\\\\n",
        "A_{21} & A_{22}\n",
        "\\end{array}\\right], \\quad B=\\left[\\begin{array}{ll}\n",
        "B_{11} & B_{12} \\\\\n",
        "B_{21} & B_{22}\n",
        "\\end{array}\\right]\n",
        "$$\n",
        "\n",
        "3. Strassen's trick: define 7 products (recursive calls):\n",
        "\n",
        "$$\n",
        "\\begin{aligned}\n",
        "& M_1=\\left(A_{11}+A_{22}\\right)\\left(B_{11}+B_{22}\\right) \\\\\n",
        "& M_2=\\left(A_{21}+A_{22}\\right) B_{11} \\\\\n",
        "& M_3=A_{11}\\left(B_{12}-B_{22}\\right) \\\\\n",
        "& M_4=A_{22}\\left(B_{21}-B_{11}\\right) \\\\\n",
        "& M_5=\\left(A_{11}+A_{12}\\right) B_{22} \\\\\n",
        "& M_6=\\left(A_{21}-A_{11}\\right)\\left(B_{11}+B_{12}\\right) \\\\\n",
        "& M_7=\\left(A_{12}-A_{22}\\right)\\left(B_{21}+B_{22}\\right)\n",
        "\\end{aligned}\n",
        "$$\n",
        "\n",
        "4. Combine them to get the result blocks (additional non-recursive operations):\n",
        "\n",
        "$$\n",
        "\\begin{aligned}\n",
        "& C_{11}=M_1+M_4-M_5+M_7 \\\\\n",
        "& C_{12}=M_3+M_5 \\\\\n",
        "& C_{21}=M_2+M_4 \\\\\n",
        "& C_{22}=M_1-M_2+M_3+M_6\n",
        "\\end{aligned}\n",
        "$$\n",
        "\n",
        "5. Recursively compute until base case."
      ],
      "metadata": {
        "id": "3ApmcdKtKDd4"
      }
    },
    {
      "cell_type": "markdown",
      "source": [
        "Let us first implement the brute force algorithm in order to compare the performances of the two."
      ],
      "metadata": {
        "id": "zzg5h96J4HvG"
      }
    },
    {
      "cell_type": "code",
      "execution_count": 1,
      "metadata": {
        "id": "hpTukjSgE6fL"
      },
      "outputs": [],
      "source": [
        "def multiply_bruteforce(A, B):\n",
        "    n = len(A)\n",
        "    C = [[0] * n for _ in range(n)]\n",
        "    for i in range(n):\n",
        "        for j in range(n):\n",
        "            for k in range(n):\n",
        "                C[i][j] += A[i][k] * B[k][j]\n",
        "    return C"
      ]
    },
    {
      "cell_type": "markdown",
      "source": [
        "Let us define now the Stressen's algorithm instead"
      ],
      "metadata": {
        "id": "nkubS1tP5q-k"
      }
    },
    {
      "cell_type": "code",
      "source": [
        " #  define helper functions for matrix addition, subtraction and splitting into blocks\n",
        "\n",
        "def add_matrix(A, B):\n",
        "  n = len(A)\n",
        "  return [[A[i][j] + B[i][j] for j in range(n)] for i in range(n)]\n",
        "\n",
        "def sub_matrix(A, B):\n",
        "  n = len(A)\n",
        "  return [[A[i][j] - B[i][j] for j in range(n)] for i in range(n)]\n",
        "\n",
        "def split_matrix(A):\n",
        "  n = len(A)\n",
        "  mid = n // 2\n",
        "  # create the blocks\n",
        "  A11 = [row[:mid] for row in A[:mid]]\n",
        "  A12 = [row[mid:] for row in A[:mid]]\n",
        "  A21 = [row[:mid] for row in A[mid:]]\n",
        "  A22 = [row[mid:] for row in A[mid:]]\n",
        "\n",
        "  return A11, A12, A21, A22\n",
        "\n",
        "def combine_matrix(C11, C12, C21, C22):\n",
        "\n",
        "\n"
      ],
      "metadata": {
        "id": "a8owvlQz5ym2"
      },
      "execution_count": null,
      "outputs": []
    }
  ]
}