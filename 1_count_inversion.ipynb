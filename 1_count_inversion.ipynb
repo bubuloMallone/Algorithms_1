{
  "nbformat": 4,
  "nbformat_minor": 0,
  "metadata": {
    "colab": {
      "provenance": [],
      "authorship_tag": "ABX9TyPb0gnlrhl1AE7jDCm6Kerr",
      "include_colab_link": true
    },
    "kernelspec": {
      "name": "python3",
      "display_name": "Python 3"
    },
    "language_info": {
      "name": "python"
    }
  },
  "cells": [
    {
      "cell_type": "markdown",
      "metadata": {
        "id": "view-in-github",
        "colab_type": "text"
      },
      "source": [
        "<a href=\"https://colab.research.google.com/github/bubuloMallone/Algorithms_1/blob/main/1_count_inversion.ipynb\" target=\"_parent\"><img src=\"https://colab.research.google.com/assets/colab-badge.svg\" alt=\"Open In Colab\"/></a>"
      ]
    },
    {
      "cell_type": "code",
      "execution_count": 2,
      "metadata": {
        "colab": {
          "base_uri": "https://localhost:8080/"
        },
        "id": "pFRPntlnEbdj",
        "outputId": "d98070d7-e15f-4f3d-fd6b-b2888095f423"
      },
      "outputs": [
        {
          "output_type": "stream",
          "name": "stdout",
          "text": [
            "--2025-09-25 14:05:56--  https://raw.githubusercontent.com/bubuloMallone/Algorithms_1/refs/heads/main/datasets/1_count_inversion/dataset.txt\n",
            "Resolving raw.githubusercontent.com (raw.githubusercontent.com)... 185.199.108.133, 185.199.109.133, 185.199.110.133, ...\n",
            "Connecting to raw.githubusercontent.com (raw.githubusercontent.com)|185.199.108.133|:443... connected.\n",
            "HTTP request sent, awaiting response... 200 OK\n",
            "Length: 588895 (575K) [text/plain]\n",
            "Saving to: ‘dataset.txt’\n",
            "\n",
            "\rdataset.txt           0%[                    ]       0  --.-KB/s               \rdataset.txt         100%[===================>] 575.09K  --.-KB/s    in 0.03s   \n",
            "\n",
            "2025-09-25 14:05:56 (22.1 MB/s) - ‘dataset.txt’ saved [588895/588895]\n",
            "\n",
            "--2025-09-25 14:05:56--  https://raw.githubusercontent.com/bubuloMallone/Algorithms_1/refs/heads/main/datasets/1_count_inversion/testset.txt\n",
            "Resolving raw.githubusercontent.com (raw.githubusercontent.com)... 185.199.111.133, 185.199.109.133, 185.199.108.133, ...\n",
            "Connecting to raw.githubusercontent.com (raw.githubusercontent.com)|185.199.111.133|:443... connected.\n",
            "HTTP request sent, awaiting response... 200 OK\n",
            "Length: 58 [text/plain]\n",
            "Saving to: ‘testset.txt’\n",
            "\n",
            "testset.txt         100%[===================>]      58  --.-KB/s    in 0s      \n",
            "\n",
            "2025-09-25 14:05:56 (1006 KB/s) - ‘testset.txt’ saved [58/58]\n",
            "\n"
          ]
        },
        {
          "output_type": "execute_result",
          "data": {
            "text/plain": [
              "[54044, 14108, 79294]"
            ]
          },
          "metadata": {},
          "execution_count": 2
        }
      ],
      "source": [
        "# The Dataset is an array of all the integers between 1 and 100,000 in random order. The Testset is just a shorter array for debug.\n",
        "\n",
        "!wget https://raw.githubusercontent.com/bubuloMallone/Algorithms_1/refs/heads/main/datasets/1_count_inversion/dataset.txt\n",
        "!wget https://raw.githubusercontent.com/bubuloMallone/Algorithms_1/refs/heads/main/datasets/1_count_inversion/testset.txt\n",
        "\n",
        "\n",
        "dataset = open('dataset.txt', 'r')\n",
        "dataset = dataset.read().split('\\n')\n",
        "dataset = [int(x) for x in dataset if x] # Convert to list of integers, handling empty strings\n",
        "\n",
        "testset = open('testset.txt', 'r')\n",
        "testset = testset.read().split('\\n')\n",
        "testset = [int(x) for x in testset if x] # Convert to list of integers, handling empty strings\n",
        "\n",
        "testset[:3]"
      ]
    },
    {
      "cell_type": "markdown",
      "source": [
        "What is an inversion?\n",
        "\n",
        "Given an array A, an inversion is a pair $(i,j)$ such that $i<j$ and $A[i]>A[j]$.\n",
        "\n",
        "For example, in list $[2, 4, 1, 3, 5]$, the inversions are $(2,1), (4,1), (4,3),$ for a total of $3$.\n",
        "\n",
        "Note that in an ordered array the number of inversions is zero, while in the maximum number of inversion can be obtained considering a reverse sorted array. In this case the number of inversions is equal to all the combinations of pairs you can form with the array elements. For a n-elements array is $\\binom{n}{2}$.\n"
      ],
      "metadata": {
        "id": "Jtw3NzfILpuY"
      }
    },
    {
      "cell_type": "code",
      "source": [
        "# GOAL: implement the counting-inversions algorithm by means of a divide-conquer type algorithm. It is based on the merge-sort algorithm.\n",
        "# Implement the merge-sort algorithm with the slight modification of counting the the inversion at every recursive merge operation.\n",
        "\n",
        "# define the merge operation of two sorted arrays to be used later as a sub-routine\n",
        "\n",
        "def merge_counting(left, right):\n",
        "\n",
        "  i = j = 0\n",
        "  inv_count = 0\n",
        "  merged = []\n",
        "\n",
        "  while i < len(left) and j < len(right):\n",
        "    if left[i] <= right[j]:\n",
        "      merged.append(left[i])\n",
        "      i += 1\n",
        "    else:\n",
        "      merged.append(right[j])\n",
        "      j += 1\n",
        "      inv_count += len(left) - i\n",
        "\n",
        "  merged.extend(left[i:])  # slicing is clamped to the list's indexes validity range: in this scenario an out of range slicing would return empty list\n",
        "  merged.extend(right[j:])\n",
        "  return merged, inv_count\n",
        "\n",
        "  # define the recursive divide-conquer routine and use in it the merge sub-routine\n",
        "\n",
        "def inversions_merge_sort(array):\n",
        "\n",
        "  if len(array) <= 1:\n",
        "    return array, 0\n",
        "\n",
        "  mid = len(array) // 2\n",
        "  left, inv_left = inversions_merge_sort(array[:mid])\n",
        "  right, inv_right = inversions_merge_sort(array[mid:])\n",
        "\n",
        "  merged, inv_split = merge_counting(left, right)\n",
        "\n",
        "  return merged, inv_left + inv_right + inv_split\n",
        "\n",
        "\n"
      ],
      "metadata": {
        "id": "iEC95uBHJstp"
      },
      "execution_count": 12,
      "outputs": []
    },
    {
      "cell_type": "code",
      "source": [
        "# example\n",
        "\n",
        "# A = [1,2,3,5,4,6]\n",
        "# b1 = [1,2,3] b2 = [5,4,6]                               -->  b1 = A[:mid]\n",
        "# c1 = [1] c2 = [2,3] c3 = [5] c4 = [4,6]                 -->  c1 = b1[:mid] = A[:mid][:mid]\n",
        "# d1 = [1] d2 = [2] d3 = [3] d4 = [5] d5 = [4] d6 = [6]   -->  d2 = A[:mid][mid:][:mid]"
      ],
      "metadata": {
        "id": "JmgPl1SQnkL1"
      },
      "execution_count": null,
      "outputs": []
    },
    {
      "cell_type": "code",
      "source": [
        "# test the algorithm in the special cases\n",
        "\n",
        "n = 10\n",
        "ordered_test = [i+1 for i in range(n)]\n",
        "reversed_test = [i for i in range(n,0, -1)]\n",
        "\n",
        "_, inv_min = inversions_merge_sort(ordered_test)\n",
        "_, inv_max = inversions_merge_sort(reversed_test)\n",
        "\n",
        "min_true = 0\n",
        "max_true = int(n * (n-1) / 2)\n",
        "\n",
        "print('ordered: ', min_true, '-->', inv_min)\n",
        "print('reversed: ', max_true, '-->', inv_max)"
      ],
      "metadata": {
        "colab": {
          "base_uri": "https://localhost:8080/"
        },
        "id": "bu4VzsjHMhOd",
        "outputId": "82616fb0-4be0-4b59-8eb2-3b9f27f04a74"
      },
      "execution_count": 13,
      "outputs": [
        {
          "output_type": "stream",
          "name": "stdout",
          "text": [
            "ordered:  0 --> 0\n",
            "reversed:  45 --> 45\n"
          ]
        }
      ]
    },
    {
      "cell_type": "code",
      "source": [
        "# compare the algorithm with the brute force O(n^2) iterative algorithm\n",
        "\n",
        "def inversions_bf(array):\n",
        "  n = len(array)\n",
        "  inv_count = 0\n",
        "\n",
        "  for i in range(n):\n",
        "    for j in range(i+1, n):\n",
        "      if array[j] < array[i]:\n",
        "        inv_count += 1\n",
        "\n",
        "  return inv_count\n",
        "\n",
        "\n",
        "_, inv_count = inversions_merge_sort(testset)\n",
        "inv_count_bf = inversions_bf(testset)\n",
        "\n",
        "print(inv_count, inv_count_bf)"
      ],
      "metadata": {
        "colab": {
          "base_uri": "https://localhost:8080/"
        },
        "id": "CKm4i1snNKZ7",
        "outputId": "fa043d24-d9e9-44ab-99d4-4b2f12ed4254"
      },
      "execution_count": 14,
      "outputs": [
        {
          "output_type": "stream",
          "name": "stdout",
          "text": [
            "28 28\n"
          ]
        }
      ]
    },
    {
      "cell_type": "code",
      "source": [
        "import time\n",
        "\n",
        "start_time = time.time()\n",
        "_, inv_count = inversions_merge_sort(dataset[:10000])\n",
        "end_time = time.time()\n",
        "execution_time_ms = end_time - start_time\n",
        "\n",
        "start_time = time.time()\n",
        "inv_count_bf = inversions_bf(dataset[:10000])\n",
        "end_time = time.time()\n",
        "execution_time_bf = end_time - start_time\n",
        "\n",
        "\n",
        "print(f\"The function divide-conquer took {execution_time_ms:.3f} seconds to execute.\")\n",
        "print(f\"The function brute-force took {execution_time_bf:.3f} seconds to execute.\")\n",
        "print('inversions: ', '(ms)', inv_count, '(bf)', inv_count_bf)"
      ],
      "metadata": {
        "colab": {
          "base_uri": "https://localhost:8080/"
        },
        "id": "57-Xr2y9S_5F",
        "outputId": "80364d5a-a7c4-43c8-bec9-fb04ea883d77"
      },
      "execution_count": 20,
      "outputs": [
        {
          "output_type": "stream",
          "name": "stdout",
          "text": [
            "The function divide-conquer took 0.033 seconds to execute.\n",
            "The function brute-force took 3.541 seconds to execute.\n",
            "inversions:  (ms) 24936914 (bf) 24936914\n"
          ]
        }
      ]
    },
    {
      "cell_type": "code",
      "source": [
        "# find the total number of inversions on the dataset array\n",
        "\n",
        "_, inv_count = inversions_merge_sort(dataset)\n",
        "print(inv_count)"
      ],
      "metadata": {
        "id": "azNsgoqGXfpQ",
        "outputId": "5f26c9c7-90a6-4eb2-dc1a-d9105722a8e3",
        "colab": {
          "base_uri": "https://localhost:8080/"
        }
      },
      "execution_count": 21,
      "outputs": [
        {
          "output_type": "stream",
          "name": "stdout",
          "text": [
            "2407905288\n"
          ]
        }
      ]
    }
  ]
}