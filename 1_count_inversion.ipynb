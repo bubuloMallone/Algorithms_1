{
  "nbformat": 4,
  "nbformat_minor": 0,
  "metadata": {
    "colab": {
      "provenance": [],
      "authorship_tag": "ABX9TyNGeXxDBWyrfyJ21vqUAV0Y",
      "include_colab_link": true
    },
    "kernelspec": {
      "name": "python3",
      "display_name": "Python 3"
    },
    "language_info": {
      "name": "python"
    }
  },
  "cells": [
    {
      "cell_type": "markdown",
      "metadata": {
        "id": "view-in-github",
        "colab_type": "text"
      },
      "source": [
        "<a href=\"https://colab.research.google.com/github/bubuloMallone/Algorithms_1/blob/main/1_count_inversion.ipynb\" target=\"_parent\"><img src=\"https://colab.research.google.com/assets/colab-badge.svg\" alt=\"Open In Colab\"/></a>"
      ]
    },
    {
      "cell_type": "code",
      "execution_count": 2,
      "metadata": {
        "colab": {
          "base_uri": "https://localhost:8080/"
        },
        "id": "pFRPntlnEbdj",
        "outputId": "296dce62-3ec6-43be-b5ac-1a0605533000"
      },
      "outputs": [
        {
          "output_type": "stream",
          "name": "stdout",
          "text": [
            "--2025-09-25 09:14:56--  https://raw.githubusercontent.com/bubuloMallone/Algorithms_1/refs/heads/main/datasets/1_count_inversion/dataset.txt\n",
            "Resolving raw.githubusercontent.com (raw.githubusercontent.com)... 185.199.110.133, 185.199.111.133, 185.199.109.133, ...\n",
            "Connecting to raw.githubusercontent.com (raw.githubusercontent.com)|185.199.110.133|:443... connected.\n",
            "HTTP request sent, awaiting response... 200 OK\n",
            "Length: 588895 (575K) [text/plain]\n",
            "Saving to: ‘dataset.txt.1’\n",
            "\n",
            "\rdataset.txt.1         0%[                    ]       0  --.-KB/s               \rdataset.txt.1       100%[===================>] 575.09K  --.-KB/s    in 0.02s   \n",
            "\n",
            "2025-09-25 09:14:56 (24.2 MB/s) - ‘dataset.txt.1’ saved [588895/588895]\n",
            "\n",
            "--2025-09-25 09:14:56--  https://raw.githubusercontent.com/bubuloMallone/Algorithms_1/refs/heads/main/datasets/1_count_inversion/testset.txt\n",
            "Resolving raw.githubusercontent.com (raw.githubusercontent.com)... 185.199.108.133, 185.199.109.133, 185.199.110.133, ...\n",
            "Connecting to raw.githubusercontent.com (raw.githubusercontent.com)|185.199.108.133|:443... connected.\n",
            "HTTP request sent, awaiting response... 200 OK\n",
            "Length: 58 [text/plain]\n",
            "Saving to: ‘testset.txt’\n",
            "\n",
            "testset.txt         100%[===================>]      58  --.-KB/s    in 0s      \n",
            "\n",
            "2025-09-25 09:14:56 (1.17 MB/s) - ‘testset.txt’ saved [58/58]\n",
            "\n"
          ]
        },
        {
          "output_type": "execute_result",
          "data": {
            "text/plain": [
              "[54044, 14108, 79294]"
            ]
          },
          "metadata": {},
          "execution_count": 2
        }
      ],
      "source": [
        "# The Dataset is an array of all the integers between 1 and 100,000 in random order. The Testset is just a shorter array for debug.\n",
        "\n",
        "!wget https://raw.githubusercontent.com/bubuloMallone/Algorithms_1/refs/heads/main/datasets/1_count_inversion/dataset.txt\n",
        "!wget https://raw.githubusercontent.com/bubuloMallone/Algorithms_1/refs/heads/main/datasets/1_count_inversion/testset.txt\n",
        "\n",
        "\n",
        "dataset = open('dataset.txt', 'r')\n",
        "dataset = dataset.read().split('\\n')\n",
        "dataset = [int(x) for x in dataset if x] # Convert to list of integers, handling empty strings\n",
        "\n",
        "testset = open('testset.txt', 'r')\n",
        "testset = testset.read().split('\\n')\n",
        "testset = [int(x) for x in testset if x] # Convert to list of integers, handling empty strings\n",
        "\n",
        "testset[:3]"
      ]
    },
    {
      "cell_type": "markdown",
      "source": [
        "What is an inversion?\n",
        "\n",
        "Given an array A, an inversion is a pair $(i,j)$ such that $i<j$ and $A[i]>A[j]$.\n",
        "\n",
        "For example, in list $[2, 4, 1, 3, 5]$, the inversions are $(2,1), (4,1), (4,3),$ for a total of $3$.\n",
        "\n",
        "Note that in an ordered array the number of inversions is zero, while in the maximum number of inversion can be obtained considering a reverse sorted array. In this case the number of inversions is equal to all the combinations of pairs you can form with the array elements. For a n-elements array is $\\binom{n}{2}$.\n"
      ],
      "metadata": {
        "id": "Jtw3NzfILpuY"
      }
    },
    {
      "cell_type": "code",
      "source": [
        "# GOAL: implement the counting-inversions algorithm by means of a divide-conquer type algorithm. It is based on the merge-sort algorithm."
      ],
      "metadata": {
        "id": "iEC95uBHJstp"
      },
      "execution_count": null,
      "outputs": []
    }
  ]
}