{
  "nbformat": 4,
  "nbformat_minor": 0,
  "metadata": {
    "colab": {
      "provenance": [],
      "authorship_tag": "ABX9TyOTL9s+/KOCQ2JbaHQL3Nql",
      "include_colab_link": true
    },
    "kernelspec": {
      "name": "python3",
      "display_name": "Python 3"
    },
    "language_info": {
      "name": "python"
    }
  },
  "cells": [
    {
      "cell_type": "markdown",
      "metadata": {
        "id": "view-in-github",
        "colab_type": "text"
      },
      "source": [
        "<a href=\"https://colab.research.google.com/github/bubuloMallone/Algorithms_1/blob/main/5_graphs.ipynb\" target=\"_parent\"><img src=\"https://colab.research.google.com/assets/colab-badge.svg\" alt=\"Open In Colab\"/></a>"
      ]
    },
    {
      "cell_type": "code",
      "execution_count": 8,
      "metadata": {
        "colab": {
          "base_uri": "https://localhost:8080/"
        },
        "id": "TbPkh0ljySI_",
        "outputId": "ee8120f1-a9ac-4f57-ae72-9c705cf83fca"
      },
      "outputs": [
        {
          "output_type": "stream",
          "name": "stdout",
          "text": [
            "--2025-10-18 17:05:48--  https://raw.githubusercontent.com/bubuloMallone/Algorithms_1/refs/heads/main/datasets/4_graphs/4.1_testset1.txt\n",
            "Resolving raw.githubusercontent.com (raw.githubusercontent.com)... 185.199.109.133, 185.199.111.133, 185.199.108.133, ...\n",
            "Connecting to raw.githubusercontent.com (raw.githubusercontent.com)|185.199.109.133|:443... connected.\n",
            "HTTP request sent, awaiting response... 200 OK\n",
            "Length: 64 [text/plain]\n",
            "Saving to: ‘4.1_testset1.txt’\n",
            "\n",
            "\r4.1_testset1.txt      0%[                    ]       0  --.-KB/s               \r4.1_testset1.txt    100%[===================>]      64  --.-KB/s    in 0s      \n",
            "\n",
            "2025-10-18 17:05:48 (1.31 MB/s) - ‘4.1_testset1.txt’ saved [64/64]\n",
            "\n"
          ]
        }
      ],
      "source": [
        "# Let us first create some arrays to be sorted, taken from the dataset.\n",
        "\n",
        "!wget -O 4.1_testset1.txt https://raw.githubusercontent.com/bubuloMallone/Algorithms_1/refs/heads/main/datasets/4_graphs/4.1_testset1.txt\n",
        "\n",
        "def read_file(filename):\n",
        "  edges = []\n",
        "  with open('4.1_testset1.txt', 'r') as f:\n",
        "      # read first two lines for graph size\n",
        "      n_nodes = int(f.readline().strip().split('=')[1])\n",
        "      n_edges = int(f.readline().strip().split('=')[1])\n",
        "\n",
        "      # now read the remaining lines as edges\n",
        "      for line in f:\n",
        "          parts = line.strip().split()\n",
        "          if len(parts) == 2:\n",
        "              u, v = map(int, parts)\n",
        "              edges.append((u, v))\n",
        "\n",
        "  return edges, n_nodes, n_edges"
      ]
    },
    {
      "cell_type": "markdown",
      "source": [
        "We can represent a graph as a dictionary (hash map) mapping each node to its list of neighbors. This way of representing it is usually called\n",
        "**adjacency list**, i.e. the representation of a graph as a collection of lists (or sets) — one for each vertex — where each list contains the neighbors of that vertex."
      ],
      "metadata": {
        "id": "BoNrvFm1BLsU"
      }
    },
    {
      "cell_type": "code",
      "source": [
        "# We can now contruct a class to represent our graph objects.\n",
        "\n",
        "class Graph:\n",
        "    def __init__(self, n_nodes, undirected=True):\n",
        "        \"\"\"Initialize an empty graph with n_nodes vertices.\"\"\"\n",
        "        self.n_nodes = n_nodes\n",
        "        self.undirected = undirected\n",
        "        self.adj = {i: [] for i in range(1, n_nodes + 1)}\n",
        "\n",
        "    def init_from_edge_list(self, edge_list):\n",
        "        \"\"\"\n",
        "        Build adjacency list from a list of (u, v) edges.\n",
        "        edge u -> v (and v -> u if undirected).\n",
        "        \"\"\"\n",
        "        for u, v in edge_list:\n",
        "            self.adj[u].append(v)\n",
        "            if self.undirected:\n",
        "                self.adj[v].append(u)\n",
        "\n",
        "    def add_node(self, v):\n",
        "        \"\"\"Add a node if not present.\"\"\"\n",
        "        if v not in self.adj:\n",
        "            self.adj[v] = []\n",
        "\n",
        "    def add_edge(self, u, v):\n",
        "        \"\"\"Add edge u -> v (and v -> u if undirected).\"\"\"\n",
        "        self.add_node(u)\n",
        "        self.add_node(v)\n",
        "        self.adj[u].append(v)\n",
        "        if self.undirected:\n",
        "            self.adj[v].append(u)\n",
        "\n",
        "    def print_graph(self):\n",
        "        \"\"\"Print adjacency list.\"\"\"\n",
        "        for v, neighbors in self.adj.items():\n",
        "            print(f\"{v}: {neighbors}\")"
      ],
      "metadata": {
        "id": "mQKGQNyR9WXA"
      },
      "execution_count": 3,
      "outputs": []
    },
    {
      "cell_type": "code",
      "source": [
        "# Let us construct the graph described by the edges list edges_1\n",
        "\n",
        "edges_1, n_nodes_1, _ = read_file('4.1_testset1.txt')\n",
        "\n",
        "g1 = Graph(n_nodes=n_nodes_1, undirected=True)\n",
        "g1.init_from_edge_list(edge_list=edges_1)\n",
        "\n",
        "g1.print_graph()\n",
        "\n"
      ],
      "metadata": {
        "colab": {
          "base_uri": "https://localhost:8080/"
        },
        "id": "j06pZg_dD7TH",
        "outputId": "4e32e513-a25b-4165-8dd0-d88b4deb8bbd"
      },
      "execution_count": 9,
      "outputs": [
        {
          "output_type": "stream",
          "name": "stdout",
          "text": [
            "1: [4, 7]\n",
            "2: [8, 5]\n",
            "3: [6, 9]\n",
            "4: [1, 7]\n",
            "5: [2, 8]\n",
            "6: [3, 9, 8]\n",
            "7: [4, 1, 9]\n",
            "8: [2, 5, 6]\n",
            "9: [6, 7, 3]\n"
          ]
        }
      ]
    }
  ]
}