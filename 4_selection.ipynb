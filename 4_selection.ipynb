{
  "nbformat": 4,
  "nbformat_minor": 0,
  "metadata": {
    "colab": {
      "provenance": [],
      "authorship_tag": "ABX9TyM73LvWEXiOq/GsFMIZ3A+V",
      "include_colab_link": true
    },
    "kernelspec": {
      "name": "python3",
      "display_name": "Python 3"
    },
    "language_info": {
      "name": "python"
    }
  },
  "cells": [
    {
      "cell_type": "markdown",
      "metadata": {
        "id": "view-in-github",
        "colab_type": "text"
      },
      "source": [
        "<a href=\"https://colab.research.google.com/github/bubuloMallone/Algorithms_1/blob/main/4_selection.ipynb\" target=\"_parent\"><img src=\"https://colab.research.google.com/assets/colab-badge.svg\" alt=\"Open In Colab\"/></a>"
      ]
    },
    {
      "cell_type": "markdown",
      "source": [
        "# Randomized selection algorithm\n",
        "\n",
        "**Purpose of the Algorithm**\n",
        "\n",
        "The **selection problem** asks: Given an unsorted array of $n$ elements and an integer $i$ (with $1 \\leq i \\leq n$ ), find the element that would occupy the $i$-th position if the array were sorted. In other words, the algorithm finds the $i$-th order statistic:\n",
        "\n",
        "- $i=1 \\rightarrow$ minimum element\n",
        "- $i=n \\rightarrow$ maximum element\n",
        "- $i=\\frac{n+1}{2} \\rightarrow$ median (if $n$ is odd)\n",
        "- $i=\\frac{n}{2} \\rightarrow$ median (if $n$ is even by convention)\n",
        "\n",
        "A naive approach would be to sort the array, in $O(n \\log n)$ time and return the $i$-th element. However, this is unnecessary since we do not need the full sorted order, but only one position.\n",
        "\n",
        "The **Randomized Selection Algorithm** solves this problem in **expected** linear time, $O(n)$, using a partition-based approach similar to QuickSort, i.e. it uses partitioning around a pivot to recursively reduce the problem size.\n",
        "\n",
        "**Algorithmic Idea**\n",
        "\n",
        "1. Choose a pivot element uniformly at random from the array.\n",
        "2. Partition the array into:\n",
        "- Elements \"less than\" the pivot,\n",
        "- The pivot itself,\n",
        "- Elements \"greater than\" the pivot.\n",
        "3. Determine which side to recurse on:\n",
        "- Let $k$ be the number of elements in the \"less than\" partition.\n",
        "- If $i=k+1$, the pivot is the $i$-th order statistic - return it.\n",
        "- If $i \\leq k$, recursively search the $i$-th smallest element in the \"less than\" subarray.\n",
        "- If $i>k+1$, recursively search the ( $i-k-1$ )-th smallest element in the \"greater than\" subarray.\n",
        "\n",
        "This process eliminates about half of the array **on average** with each recursive step, leading to an **expected running time** of $O(n)$.\n",
        "\n",
        "\n",
        "**Complexity Analysis**\n",
        "\n",
        "Let $T(n)$ denote the expected running time on an array of size $n$.\n",
        "\n",
        "- The partition step takes $O(n)$ time, since every element is compared to the pivot once.\n",
        "\n",
        "- The recursive step is performed only on one side of the partition (unlike QuickSort, which recurses on both sides).\n",
        "\n",
        "The **expected size** of the recursive subproblem is **on average** $n / 2$, since the pivot is random.\n",
        "\n",
        "Hence, the expected recurrence is\n",
        "\n",
        "$$\n",
        "T(n)=T(n / 2)+O(n),\n",
        "$$\n",
        "\n",
        "\n",
        "solving this recurrence, according to the Master method, yields\n",
        "\n",
        "$$\n",
        "T(n)=O(n).\n",
        "$$\n",
        "\n",
        "\n",
        "**Worst-Case Complexity**\n",
        "\n",
        "In the worst case (e.g., if the pivot is always the smallest or largest element), one side of the partition has size $n-1$ and the other has size zero :\n",
        "\n",
        "$$\n",
        "T(n)=T(n-1)+O(n)=O\\left(n^2\\right)\n",
        "$$\n",
        "\n",
        "\n",
        "However, because the pivot is chosen randomly, this happens with extremely low probability, and the expected running time remains linear.\n",
        "\n",
        "**Space complexity**\n",
        "\n",
        "The algorithm works in-place, i.e. space complexity $O(1)$.\n"
      ],
      "metadata": {
        "id": "FTnR5-BkJwmm"
      }
    },
    {
      "cell_type": "code",
      "source": [
        "# Randomized In-Place QuickSelect\n",
        "import random\n",
        "\n",
        "# Partition procedure:  partiton the sub-array into <=pivot portion and >pivot portion, then place pivot in correct position.\n",
        "\n",
        "def partition(arr, left, right):\n",
        "  # suppose pivot is the last element of arr\n",
        "  pivot = arr[right]\n",
        "  s = left - 1   # pointer tracking the boundary of partition <= pivot\n",
        "  for i in range(left, right):\n",
        "    if arr[i] <= pivot:\n",
        "      s += 1\n",
        "      arr[s], arr[i] = arr[i], arr[s]  # perform swap operation after incrementing boundary\n",
        "\n",
        "  # after partitioning all array need to put pivot in correct position in the middle of the two partitions\n",
        "  arr[s+1], arr[right] = arr[right], arr[s+1]  # swap pivot\n",
        "\n",
        "  # need to return the position of the pivot in order to split array into partitions\n",
        "  return s+1\n",
        "\n",
        "# Pivot selection: choose a pivot index uniformly at random, swap it with the last element, then call partition routine.\n",
        "\n",
        "def random_partition(arr, left, right):\n",
        "  # choose randomly a pivot in the vector\n",
        "  pivot_index = random.randint(left, right)\n",
        "  # put pivot element at the end of the array for consistency\n",
        "  arr[right], arr[pivot_index] = arr[pivot_index], arr[right]  # swap pivot with last element\n",
        "\n",
        "  # call array partitioning routine\n",
        "  return partition(arr, left, right)\n",
        "\n",
        "\n",
        "# RandomSelect recursive routine: call QuickSort recursively on the partitions of the array, handle base case.\n",
        "\n",
        "def quickselect(array, i, left = 0, right = None):\n",
        "  # first call settings\n",
        "  if right == None:\n",
        "     right = len(array) - 1\n",
        "\n",
        "  # print(\"[left, right]: \", left, right)\n",
        "\n",
        "  # base case: sub-array of size 1\n",
        "  if left == right:\n",
        "    return array[left]\n",
        "\n",
        "  # recursive call\n",
        "  pivot_index = random_partition(array, left, right)  # put pivot in correct place: find pivot index define two partitions\n",
        "  k = pivot_index - left + 1   # rank of pivot in array[left:right]\n",
        "  # print(\"pivot: \", pivot_index, \"   pivot rank: \", k)\n",
        "  # apply selection on the correct partition recursively\n",
        "  if i == k:\n",
        "        return array[pivot_index]\n",
        "  elif i < k:\n",
        "        return quickselect(array, i, left, pivot_index - 1)\n",
        "  else:\n",
        "        return quickselect(array, i - k, pivot_index + 1, right)\n"
      ],
      "metadata": {
        "id": "IAAPhjs1P6PI"
      },
      "execution_count": 34,
      "outputs": []
    },
    {
      "cell_type": "code",
      "execution_count": 59,
      "metadata": {
        "id": "U9TZtFVaIbQW",
        "colab": {
          "base_uri": "https://localhost:8080/"
        },
        "outputId": "5b1925f9-f1af-4db1-9a22-ab7cd4afcf0a"
      },
      "outputs": [
        {
          "output_type": "stream",
          "name": "stdout",
          "text": [
            "--2025-10-11 18:05:24--  https://raw.githubusercontent.com/bubuloMallone/Algorithms_1/refs/heads/main/datasets/3_selection/pi_digits_10e5.txt\n",
            "Resolving raw.githubusercontent.com (raw.githubusercontent.com)... 185.199.108.133, 185.199.109.133, 185.199.110.133, ...\n",
            "Connecting to raw.githubusercontent.com (raw.githubusercontent.com)|185.199.108.133|:443... connected.\n",
            "HTTP request sent, awaiting response... 200 OK\n",
            "Length: 100002 (98K) [text/plain]\n",
            "Saving to: ‘pi_digits_10e5.txt.5’\n",
            "\n",
            "\rpi_digits_10e5.txt.   0%[                    ]       0  --.-KB/s               \rpi_digits_10e5.txt. 100%[===================>]  97.66K  --.-KB/s    in 0.002s  \n",
            "\n",
            "2025-10-11 18:05:24 (45.6 MB/s) - ‘pi_digits_10e5.txt.5’ saved [100002/100002]\n",
            "\n",
            "--2025-10-11 18:05:24--  https://raw.githubusercontent.com/bubuloMallone/Algorithms_1/refs/heads/main/datasets/3_selection/testset1.txt\n",
            "Resolving raw.githubusercontent.com (raw.githubusercontent.com)... 185.199.108.133, 185.199.109.133, 185.199.110.133, ...\n",
            "Connecting to raw.githubusercontent.com (raw.githubusercontent.com)|185.199.108.133|:443... connected.\n",
            "HTTP request sent, awaiting response... 200 OK\n",
            "Length: 48 [text/plain]\n",
            "Saving to: ‘testset1.txt.9’\n",
            "\n",
            "testset1.txt.9      100%[===================>]      48  --.-KB/s    in 0s      \n",
            "\n",
            "2025-10-11 18:05:24 (2.40 MB/s) - ‘testset1.txt.9’ saved [48/48]\n",
            "\n",
            "--2025-10-11 18:05:24--  https://raw.githubusercontent.com/bubuloMallone/Algorithms_1/refs/heads/main/datasets/3_selection/testset2.txt\n",
            "Resolving raw.githubusercontent.com (raw.githubusercontent.com)... 185.199.108.133, 185.199.109.133, 185.199.110.133, ...\n",
            "Connecting to raw.githubusercontent.com (raw.githubusercontent.com)|185.199.108.133|:443... connected.\n",
            "HTTP request sent, awaiting response... 200 OK\n",
            "Length: 490 [text/plain]\n",
            "Saving to: ‘testset2.txt.9’\n",
            "\n",
            "testset2.txt.9      100%[===================>]     490  --.-KB/s    in 0s      \n",
            "\n",
            "2025-10-11 18:05:25 (23.6 MB/s) - ‘testset2.txt.9’ saved [490/490]\n",
            "\n"
          ]
        },
        {
          "output_type": "execute_result",
          "data": {
            "text/plain": [
              "[1415926535,\n",
              " 8979323846,\n",
              " 2643383279,\n",
              " 5028841971,\n",
              " 6939937510,\n",
              " 5820974944,\n",
              " 5923078164,\n",
              " 628620899,\n",
              " 8628034825,\n",
              " 3421170679]"
            ]
          },
          "metadata": {},
          "execution_count": 59
        }
      ],
      "source": [
        "# Let us first create some arrays to be sorted, taken from the dataset.\n",
        "\n",
        "!wget https://raw.githubusercontent.com/bubuloMallone/Algorithms_1/refs/heads/main/datasets/3_selection/pi_digits_10e5.txt\n",
        "!wget https://raw.githubusercontent.com/bubuloMallone/Algorithms_1/refs/heads/main/datasets/3_selection/testset1.txt\n",
        "!wget https://raw.githubusercontent.com/bubuloMallone/Algorithms_1/refs/heads/main/datasets/3_selection/testset2.txt\n",
        "\n",
        "\n",
        "dataset = open('pi_digits_10e5.txt', 'r')\n",
        "dataset = dataset.read().split('.')[1]\n",
        "pi_digits = []\n",
        "for i in range(0, len(dataset), 10):\n",
        "  pi_digits.append(int(dataset[i:i+10]))\n",
        "\n",
        "testset1 = open('testset1.txt', 'r')\n",
        "testset1 = testset1.read().split('\\n')\n",
        "testset1 = [int(x) for x in testset1 if x] # Convert to list of integers, handling empty strings\n",
        "\n",
        "testset2 = open('testset2.txt', 'r')\n",
        "testset2 = testset2.read().split('\\n')\n",
        "testset2 = [int(x) for x in testset2 if x] # Convert to list of integers, handling empty strings\n",
        "\n",
        "pi_digits[:10]"
      ]
    },
    {
      "cell_type": "code",
      "source": [
        "# Search for the median of an array\n",
        "# The median can be defined as follows\n",
        "n = len(testset1)\n",
        "median_order =  int(n / 2 if n % 2 == 0 else (n+1)/2)\n",
        "\n",
        "median = quickselect(testset1, median_order)\n",
        "print(\"The median value is  \", median)"
      ],
      "metadata": {
        "id": "hEjizHoLvEqg",
        "outputId": "498153bc-f0d3-4dec-9361-4cd3f520afbb",
        "colab": {
          "base_uri": "https://localhost:8080/"
        }
      },
      "execution_count": 60,
      "outputs": [
        {
          "output_type": "stream",
          "name": "stdout",
          "text": [
            "The median value is   5469\n"
          ]
        }
      ]
    },
    {
      "cell_type": "code",
      "source": [
        "# let us check the result by using the quicksort algorithm and then retrieving the median on the sorted array\n",
        "\n",
        "# let us define again the quick sort algorithm\n",
        "\n",
        "def quicksort(array, left = 0, right = None):\n",
        "  # first call settings\n",
        "  if right == None:\n",
        "     right = len(array) - 1\n",
        "     print(\"Sorting input array ...\")\n",
        "\n",
        "\n",
        "  # base case: sub-array of size 1 --> do nothing\n",
        "\n",
        "  # recursive call\n",
        "  if left < right:\n",
        "    pivot_index = random_partition(array, left, right)  # put pivot in correct place: find pivot index define two partitions\n",
        "    # apply quicksort on the two partitions recursively\n",
        "    quicksort(array, left, pivot_index - 1)\n",
        "    quicksort(array, pivot_index + 1, right)"
      ],
      "metadata": {
        "id": "ziKg8r-4z_p7"
      },
      "execution_count": 61,
      "outputs": []
    },
    {
      "cell_type": "code",
      "source": [
        "array = testset1.copy()\n",
        "quicksort(array)\n",
        "median = array[median_order - 1]\n",
        "print(\"The median value (quicksort) is  \", median)"
      ],
      "metadata": {
        "id": "AO8mXmJfTXjx",
        "outputId": "922ac56f-6665-48ee-a16b-7069d7a2fd41",
        "colab": {
          "base_uri": "https://localhost:8080/"
        }
      },
      "execution_count": 62,
      "outputs": [
        {
          "output_type": "stream",
          "name": "stdout",
          "text": [
            "Sorting input array ...\n",
            "The median value (quicksort) is   5469\n"
          ]
        }
      ]
    },
    {
      "cell_type": "code",
      "source": [
        "# Now let us do the same with another bigger array\n",
        "\n",
        "n = len(testset2)\n",
        "median_order =  int(n / 2 if n % 2 == 0 else (n+1)/2)\n",
        "median = quickselect(testset2, median_order)\n",
        "print(\"The median value (quickselect) is  \", median)\n",
        "\n",
        "array = testset2.copy()\n",
        "quicksort(array)\n",
        "median = array[median_order - 1]\n",
        "print(\"The median value (quicksort) is  \", median)"
      ],
      "metadata": {
        "id": "2mqQrsprVTVx",
        "outputId": "f20c7c06-fcfb-483e-bc18-737aafe98ec0",
        "colab": {
          "base_uri": "https://localhost:8080/"
        }
      },
      "execution_count": 65,
      "outputs": [
        {
          "output_type": "stream",
          "name": "stdout",
          "text": [
            "The median value (quickselect) is   4715\n",
            "Sorting input array ...\n",
            "The median value (quicksort) is   4715\n"
          ]
        }
      ]
    },
    {
      "cell_type": "code",
      "source": [
        "# Now let us now consider the numbers formed by taking 10-digits chunks of the first 10e5 digits of pi and look for their median.\n",
        "\n",
        "n = len(pi_digits)\n",
        "median_order =  int(n / 2 if n % 2 == 0 else (n+1)/2)\n",
        "\n",
        "median = quickselect(pi_digits, median_order)\n",
        "print(\"The median value (quickselect) is  \", median)\n",
        "\n",
        "array = pi_digits.copy()\n",
        "quicksort(array)\n",
        "median = array[median_order - 1]\n",
        "print(\"The median value (quicksort) is  \", median)"
      ],
      "metadata": {
        "id": "EiC0ztD6XQ7b",
        "outputId": "81678b24-1504-4a49-a060-f8fbbb458165",
        "colab": {
          "base_uri": "https://localhost:8080/"
        }
      },
      "execution_count": 66,
      "outputs": [
        {
          "output_type": "stream",
          "name": "stdout",
          "text": [
            "The median value (quickselect) is   5021715913\n",
            "Sorting input array ...\n",
            "The median value (quicksort) is   5021715913\n"
          ]
        }
      ]
    }
  ]
}