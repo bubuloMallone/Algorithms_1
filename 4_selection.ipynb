{
  "nbformat": 4,
  "nbformat_minor": 0,
  "metadata": {
    "colab": {
      "provenance": [],
      "authorship_tag": "ABX9TyM3KhMgNcUOx3Zmeus43KLE",
      "include_colab_link": true
    },
    "kernelspec": {
      "name": "python3",
      "display_name": "Python 3"
    },
    "language_info": {
      "name": "python"
    }
  },
  "cells": [
    {
      "cell_type": "markdown",
      "metadata": {
        "id": "view-in-github",
        "colab_type": "text"
      },
      "source": [
        "<a href=\"https://colab.research.google.com/github/bubuloMallone/Algorithms_1/blob/main/4_selection.ipynb\" target=\"_parent\"><img src=\"https://colab.research.google.com/assets/colab-badge.svg\" alt=\"Open In Colab\"/></a>"
      ]
    },
    {
      "cell_type": "markdown",
      "source": [
        "# Randomized selection algorithm\n",
        "\n",
        "**Purpose of the Algorithm**\n",
        "\n",
        "The **selection problem** asks: Given an unsorted array of $n$ elements and an integer $i$ (with $1 \\leq i \\leq n$ ), find the element that would occupy the $i$-th position if the array were sorted. In other words, the algorithm finds the $i$-th order statistic:\n",
        "\n",
        "- $i=1 \\rightarrow$ minimum element\n",
        "- $i=n \\rightarrow$ maximum element\n",
        "- $i=\\frac{n+1}{2} \\rightarrow$ median (if $n$ is odd)\n",
        "- $i=\\frac{n}{2} \\rightarrow$ median (if $n$ is even by convention)\n",
        "\n",
        "A naive approach would be to sort the array, in $O(n \\log n)$ time and return the $i$-th element. However, this is unnecessary since we do not need the full sorted order, but only one position.\n",
        "\n",
        "The **Randomized Selection Algorithm** solves this problem in **expected** linear time, $O(n)$, using a partition-based approach similar to QuickSort, i.e. it uses partitioning around a pivot to recursively reduce the problem size.\n",
        "\n",
        "**Algorithmic Idea**\n",
        "\n",
        "1. Choose a pivot element uniformly at random from the array.\n",
        "2. Partition the array into:\n",
        "- Elements \"less than\" the pivot,\n",
        "- The pivot itself,\n",
        "- Elements \"greater than\" the pivot.\n",
        "3. Determine which side to recurse on:\n",
        "- Let $k$ be the number of elements in the \"less than\" partition.\n",
        "- If $i=k+1$, the pivot is the $i$-th order statistic - return it.\n",
        "- If $i \\leq k$, recursively search the $i$-th smallest element in the \"less than\" subarray.\n",
        "- If $i>k+1$, recursively search the ( $i-k-1$ )-th smallest element in the \"greater than\" subarray.\n",
        "\n",
        "This process eliminates about half of the array **on average** with each recursive step, leading to an **expected running time** of $O(n)$.\n",
        "\n",
        "\n",
        "**Complexity Analysis**\n",
        "\n",
        "Let $T(n)$ denote the expected running time on an array of size $n$.\n",
        "\n",
        "- The partition step takes $O(n)$ time, since every element is compared to the pivot once.\n",
        "\n",
        "- The recursive step is performed only on one side of the partition (unlike QuickSort, which recurses on both sides).\n",
        "\n",
        "The **expected size** of the recursive subproblem is **on average** $n / 2$, since the pivot is random.\n",
        "\n",
        "Hence, the expected recurrence is\n",
        "\n",
        "$$\n",
        "T(n)=T(n / 2)+O(n),\n",
        "$$\n",
        "\n",
        "\n",
        "solving this recurrence, according to the Master method, yields\n",
        "\n",
        "$$\n",
        "T(n)=O(n).\n",
        "$$\n",
        "\n",
        "\n",
        "**Worst-Case Complexity**\n",
        "\n",
        "In the worst case (e.g., if the pivot is always the smallest or largest element), one side of the partition has size $n-1$ and the other has size zero :\n",
        "\n",
        "$$\n",
        "T(n)=T(n-1)+O(n)=O\\left(n^2\\right)\n",
        "$$\n",
        "\n",
        "\n",
        "However, because the pivot is chosen randomly, this happens with extremely low probability, and the expected running time remains linear.\n",
        "\n",
        "**Space complexity**\n",
        "\n",
        "The algorithm works in-place, i.e. space complexity $O(1)$.\n"
      ],
      "metadata": {
        "id": "FTnR5-BkJwmm"
      }
    },
    {
      "cell_type": "code",
      "execution_count": null,
      "metadata": {
        "id": "U9TZtFVaIbQW"
      },
      "outputs": [],
      "source": [
        "# Let us first create some arrays to be sorted, taken from the dataset.\n",
        "\n",
        "# !wget https://raw.githubusercontent.com/bubuloMallone/Algorithms_1/refs/heads/main/datasets/2_quick_sort/dataset.txt\n",
        "!wget https://raw.githubusercontent.com/bubuloMallone/Algorithms_1/refs/heads/main/datasets/3_selection/testset1.txt\n",
        "!wget https://raw.githubusercontent.com/bubuloMallone/Algorithms_1/refs/heads/main/datasets/3_selection/testset2.txt\n",
        "\n",
        "\n",
        "# dataset = open('dataset.txt', 'r')\n",
        "# dataset = dataset.read().split('\\n')\n",
        "# dataset = [int(x) for x in dataset if x] # Convert to list of integers, handling empty strings\n",
        "\n",
        "testset1 = open('testset1.txt', 'r')\n",
        "testset1 = testset1.read().split('\\n')\n",
        "testset1 = [int(x) for x in testset1 if x] # Convert to list of integers, handling empty strings\n",
        "\n",
        "testset2 = open('testset2.txt', 'r')\n",
        "testset2 = testset2.read().split('\\n')\n",
        "testset2 = [int(x) for x in testset2 if x] # Convert to list of integers, handling empty strings\n",
        "\n",
        "testset1"
      ]
    }
  ]
}