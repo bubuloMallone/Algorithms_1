{
  "nbformat": 4,
  "nbformat_minor": 0,
  "metadata": {
    "colab": {
      "provenance": [],
      "authorship_tag": "ABX9TyNP5YCYe8ZKVgUBoC27NYgF",
      "include_colab_link": true
    },
    "kernelspec": {
      "name": "python3",
      "display_name": "Python 3"
    },
    "language_info": {
      "name": "python"
    }
  },
  "cells": [
    {
      "cell_type": "markdown",
      "metadata": {
        "id": "view-in-github",
        "colab_type": "text"
      },
      "source": [
        "<a href=\"https://colab.research.google.com/github/bubuloMallone/Algorithms_1/blob/main/4_selection.ipynb\" target=\"_parent\"><img src=\"https://colab.research.google.com/assets/colab-badge.svg\" alt=\"Open In Colab\"/></a>"
      ]
    },
    {
      "cell_type": "markdown",
      "source": [
        "# Randomized selection algorithm\n",
        "\n",
        "..."
      ],
      "metadata": {
        "id": "FTnR5-BkJwmm"
      }
    },
    {
      "cell_type": "code",
      "execution_count": null,
      "metadata": {
        "id": "U9TZtFVaIbQW"
      },
      "outputs": [],
      "source": [
        "# Let us first create some arrays to be sorted, taken from the dataset.\n",
        "\n",
        "!wget https://raw.githubusercontent.com/bubuloMallone/Algorithms_1/refs/heads/main/datasets/2_quick_sort/dataset.txt\n",
        "!wget https://raw.githubusercontent.com/bubuloMallone/Algorithms_1/refs/heads/main/datasets/2_quick_sort/testset1.txt\n",
        "!wget https://raw.githubusercontent.com/bubuloMallone/Algorithms_1/refs/heads/main/datasets/2_quick_sort/testset2.txt\n",
        "\n",
        "\n",
        "dataset = open('dataset.txt', 'r')\n",
        "dataset = dataset.read().split('\\n')\n",
        "dataset = [int(x) for x in dataset if x] # Convert to list of integers, handling empty strings\n",
        "\n",
        "testset1 = open('testset1.txt', 'r')\n",
        "testset1 = testset1.read().split('\\n')\n",
        "testset1 = [int(x) for x in testset1 if x] # Convert to list of integers, handling empty strings\n",
        "\n",
        "testset2 = open('testset2.txt', 'r')\n",
        "testset2 = testset2.read().split('\\n')\n",
        "testset2 = [int(x) for x in testset2 if x] # Convert to list of integers, handling empty strings\n",
        "\n",
        "testset1"
      ]
    }
  ]
}