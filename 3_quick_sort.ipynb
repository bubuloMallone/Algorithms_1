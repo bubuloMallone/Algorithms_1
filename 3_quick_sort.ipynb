{
  "nbformat": 4,
  "nbformat_minor": 0,
  "metadata": {
    "colab": {
      "provenance": [],
      "authorship_tag": "ABX9TyM5fx8Qhf0RekY9F/gQwfAJ",
      "include_colab_link": true
    },
    "kernelspec": {
      "name": "python3",
      "display_name": "Python 3"
    },
    "language_info": {
      "name": "python"
    }
  },
  "cells": [
    {
      "cell_type": "markdown",
      "metadata": {
        "id": "view-in-github",
        "colab_type": "text"
      },
      "source": [
        "<a href=\"https://colab.research.google.com/github/bubuloMallone/Algorithms_1/blob/main/3_quick_sort.ipynb\" target=\"_parent\"><img src=\"https://colab.research.google.com/assets/colab-badge.svg\" alt=\"Open In Colab\"/></a>"
      ]
    },
    {
      "cell_type": "code",
      "execution_count": null,
      "metadata": {
        "colab": {
          "base_uri": "https://localhost:8080/"
        },
        "id": "nu-KOioqYaM4",
        "outputId": "46dd27b1-0222-4560-f2de-1b8d4041186f"
      },
      "outputs": [
        {
          "output_type": "stream",
          "name": "stdout",
          "text": [
            "--2025-09-25 15:02:49--  https://raw.githubusercontent.com/bubuloMallone/Algorithms_1/refs/heads/main/datasets/2_quick_sort/dataset.txt\n",
            "Resolving raw.githubusercontent.com (raw.githubusercontent.com)... 185.199.108.133, 185.199.109.133, 185.199.110.133, ...\n",
            "Connecting to raw.githubusercontent.com (raw.githubusercontent.com)|185.199.108.133|:443... connected.\n",
            "HTTP request sent, awaiting response... 200 OK\n",
            "Length: 48894 (48K) [text/plain]\n",
            "Saving to: ‘dataset.txt.1’\n",
            "\n",
            "\rdataset.txt.1         0%[                    ]       0  --.-KB/s               \rdataset.txt.1       100%[===================>]  47.75K  --.-KB/s    in 0.01s   \n",
            "\n",
            "2025-09-25 15:02:49 (4.42 MB/s) - ‘dataset.txt.1’ saved [48894/48894]\n",
            "\n",
            "--2025-09-25 15:02:49--  https://raw.githubusercontent.com/bubuloMallone/Algorithms_1/refs/heads/main/datasets/2_quick_sort/testset1.txt\n",
            "Resolving raw.githubusercontent.com (raw.githubusercontent.com)... 185.199.108.133, 185.199.109.133, 185.199.110.133, ...\n",
            "Connecting to raw.githubusercontent.com (raw.githubusercontent.com)|185.199.108.133|:443... connected.\n",
            "HTTP request sent, awaiting response... 200 OK\n",
            "Length: 48 [text/plain]\n",
            "Saving to: ‘testset1.txt.1’\n",
            "\n",
            "testset1.txt.1      100%[===================>]      48  --.-KB/s    in 0s      \n",
            "\n",
            "2025-09-25 15:02:49 (926 KB/s) - ‘testset1.txt.1’ saved [48/48]\n",
            "\n",
            "--2025-09-25 15:02:49--  https://raw.githubusercontent.com/bubuloMallone/Algorithms_1/refs/heads/main/datasets/2_quick_sort/testset2.txt\n",
            "Resolving raw.githubusercontent.com (raw.githubusercontent.com)... 185.199.109.133, 185.199.108.133, 185.199.111.133, ...\n",
            "Connecting to raw.githubusercontent.com (raw.githubusercontent.com)|185.199.109.133|:443... connected.\n",
            "HTTP request sent, awaiting response... 200 OK\n",
            "Length: 490 [text/plain]\n",
            "Saving to: ‘testset2.txt.1’\n",
            "\n",
            "testset2.txt.1      100%[===================>]     490  --.-KB/s    in 0s      \n",
            "\n",
            "2025-09-25 15:02:49 (37.2 MB/s) - ‘testset2.txt.1’ saved [490/490]\n",
            "\n"
          ]
        },
        {
          "output_type": "execute_result",
          "data": {
            "text/plain": [
              "[2148, 9058, 7742, 3153, 6324]"
            ]
          },
          "metadata": {},
          "execution_count": 2
        }
      ],
      "source": [
        "!wget https://raw.githubusercontent.com/bubuloMallone/Algorithms_1/refs/heads/main/datasets/2_quick_sort/dataset.txt\n",
        "!wget https://raw.githubusercontent.com/bubuloMallone/Algorithms_1/refs/heads/main/datasets/2_quick_sort/testset1.txt\n",
        "!wget https://raw.githubusercontent.com/bubuloMallone/Algorithms_1/refs/heads/main/datasets/2_quick_sort/testset2.txt\n",
        "\n",
        "\n",
        "dataset = open('dataset.txt', 'r')\n",
        "dataset = dataset.read().split('\\n')\n",
        "dataset = [int(x) for x in dataset if x] # Convert to list of integers, handling empty strings\n",
        "\n",
        "testset1 = open('testset1.txt', 'r')\n",
        "testset1 = testset1.read().split('\\n')\n",
        "testset1 = [int(x) for x in testset1 if x] # Convert to list of integers, handling empty strings\n",
        "\n",
        "testset2 = open('testset2.txt', 'r')\n",
        "testset2 = testset2.read().split('\\n')\n",
        "testset2 = [int(x) for x in testset2 if x] # Convert to list of integers, handling empty strings\n",
        "\n",
        "testset2[:5]\n",
        "\n"
      ]
    },
    {
      "cell_type": "code",
      "source": [],
      "metadata": {
        "id": "1HugeKy6ZYgr"
      },
      "execution_count": null,
      "outputs": []
    }
  ]
}