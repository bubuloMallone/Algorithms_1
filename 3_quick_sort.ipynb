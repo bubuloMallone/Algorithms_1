{
  "nbformat": 4,
  "nbformat_minor": 0,
  "metadata": {
    "colab": {
      "provenance": [],
      "authorship_tag": "ABX9TyMZDS5wNKiDbL1WpN1T7k0m",
      "include_colab_link": true
    },
    "kernelspec": {
      "name": "python3",
      "display_name": "Python 3"
    },
    "language_info": {
      "name": "python"
    }
  },
  "cells": [
    {
      "cell_type": "markdown",
      "metadata": {
        "id": "view-in-github",
        "colab_type": "text"
      },
      "source": [
        "<a href=\"https://colab.research.google.com/github/bubuloMallone/Algorithms_1/blob/main/3_quick_sort.ipynb\" target=\"_parent\"><img src=\"https://colab.research.google.com/assets/colab-badge.svg\" alt=\"Open In Colab\"/></a>"
      ]
    },
    {
      "cell_type": "markdown",
      "source": [
        "# QuickSort Algorithm\n",
        "\n",
        "QuickSort is one of the most widely used and efficient sorting algorithms. It was invented by Tony Hoare in 1960 and is based on the divide-and-conquer paradigm. Its elegance lies in its recursive structure and, on average, its very fast performance.\n",
        "\n",
        "\n",
        "**The Algorithm**\n",
        "\n",
        "Given an unsorted array of $n$ elements, QuickSort works as follows\n",
        "\n",
        "1. Divide: Select a pivot element from the array.\n",
        "2. Partition $O(n)$: Rearrange the array so that\n",
        "  - all elements smaller than the pivot are placed to its left,\n",
        "  - all elements greater than the pivot are placed to its right.\n",
        "\n",
        "The pivot is now in its correct sorted position.\n",
        "\n",
        "3. Conquer: Recursively apply QuickSort to the subarrays on the left and right of the pivot.\n",
        "4. Combine: Nothing extra is needed - the array becomes sorted once all subarrays are processed.\n",
        "\n",
        "\n",
        "**Randomized QuickSort**\n",
        "\n",
        "The choice of the pivot is crucial for performance:\n",
        "- If the pivot is always the smallest or largest element, the algorithm degenerates to $O\\left(n^2\\right)$ runtime.\n",
        "- If the pivot is close to the median, the algorithm achieves $O(n \\log n)$ runtime complexity.\n",
        "\n",
        "To avoid the worst-case on structured or adversarial input, one can randomize:\n",
        "- Pick the pivot at random from the current subarray;\n",
        "- With high probability, this yields a good partitioning;\n",
        "\n",
        "Thus, Randomized QuickSort guarantees expected running time of $O(n \\log n)$, regardless of the input distribution.\n",
        "\n",
        "\n",
        "**Complexity Analysis**\n",
        "\n",
        "- Best case (**balanced partitions**): each recursive call splits the array roughly in half\n",
        "\n",
        "$$\n",
        "T(n)=2 T(n / 2)+O(n) \\quad \\Rightarrow \\quad T(n)=O(n \\log n) .\n",
        "$$\n",
        "\n",
        "- Worst case (highly **unbalanced partitions**): e.g. sorted array with naive pivot choice\n",
        "\n",
        "$$\n",
        "T(n)=T(n-1)+O(n) \\quad \\Rightarrow \\quad T(n)=O\\left(n^2\\right) .\n",
        "$$\n",
        "\n",
        "- Average case (**random pivot**): expected number of comparisons is $O(n \\log n)$.\n",
        "\n",
        "Space complexity:\n",
        "\n",
        "- In-place version: $O(\\log n)$ extra space (due to recursion stack).\n",
        "- Simpler recursive version: up to $O(n)$ space."
      ],
      "metadata": {
        "id": "4fse0ndciVHE"
      }
    },
    {
      "cell_type": "code",
      "execution_count": 2,
      "metadata": {
        "colab": {
          "base_uri": "https://localhost:8080/"
        },
        "id": "nu-KOioqYaM4",
        "outputId": "56792a0d-eb43-4d53-f138-6328c259e39d"
      },
      "outputs": [
        {
          "output_type": "stream",
          "name": "stdout",
          "text": [
            "--2025-09-30 07:20:37--  https://raw.githubusercontent.com/bubuloMallone/Algorithms_1/refs/heads/main/datasets/2_quick_sort/dataset.txt\n",
            "Resolving raw.githubusercontent.com (raw.githubusercontent.com)... 185.199.109.133, 185.199.110.133, 185.199.108.133, ...\n",
            "Connecting to raw.githubusercontent.com (raw.githubusercontent.com)|185.199.109.133|:443... connected.\n",
            "HTTP request sent, awaiting response... 200 OK\n",
            "Length: 48894 (48K) [text/plain]\n",
            "Saving to: ‘dataset.txt’\n",
            "\n",
            "dataset.txt         100%[===================>]  47.75K  --.-KB/s    in 0.006s  \n",
            "\n",
            "2025-09-30 07:20:38 (7.99 MB/s) - ‘dataset.txt’ saved [48894/48894]\n",
            "\n",
            "--2025-09-30 07:20:38--  https://raw.githubusercontent.com/bubuloMallone/Algorithms_1/refs/heads/main/datasets/2_quick_sort/testset1.txt\n",
            "Resolving raw.githubusercontent.com (raw.githubusercontent.com)... 185.199.108.133, 185.199.109.133, 185.199.110.133, ...\n",
            "Connecting to raw.githubusercontent.com (raw.githubusercontent.com)|185.199.108.133|:443... connected.\n",
            "HTTP request sent, awaiting response... 200 OK\n",
            "Length: 48 [text/plain]\n",
            "Saving to: ‘testset1.txt’\n",
            "\n",
            "testset1.txt        100%[===================>]      48  --.-KB/s    in 0s      \n",
            "\n",
            "2025-09-30 07:20:38 (691 KB/s) - ‘testset1.txt’ saved [48/48]\n",
            "\n",
            "--2025-09-30 07:20:38--  https://raw.githubusercontent.com/bubuloMallone/Algorithms_1/refs/heads/main/datasets/2_quick_sort/testset2.txt\n",
            "Resolving raw.githubusercontent.com (raw.githubusercontent.com)... 185.199.108.133, 185.199.109.133, 185.199.110.133, ...\n",
            "Connecting to raw.githubusercontent.com (raw.githubusercontent.com)|185.199.108.133|:443... connected.\n",
            "HTTP request sent, awaiting response... 200 OK\n",
            "Length: 490 [text/plain]\n",
            "Saving to: ‘testset2.txt’\n",
            "\n",
            "testset2.txt        100%[===================>]     490  --.-KB/s    in 0s      \n",
            "\n",
            "2025-09-30 07:20:38 (9.28 MB/s) - ‘testset2.txt’ saved [490/490]\n",
            "\n"
          ]
        },
        {
          "output_type": "execute_result",
          "data": {
            "text/plain": [
              "[2148, 9058, 7742, 3153, 6324, 609, 7628, 5469, 7017, 504]"
            ]
          },
          "metadata": {},
          "execution_count": 2
        }
      ],
      "source": [
        "# Let us first create some arrays to be sorted, taken from the dataset.\n",
        "\n",
        "!wget https://raw.githubusercontent.com/bubuloMallone/Algorithms_1/refs/heads/main/datasets/2_quick_sort/dataset.txt\n",
        "!wget https://raw.githubusercontent.com/bubuloMallone/Algorithms_1/refs/heads/main/datasets/2_quick_sort/testset1.txt\n",
        "!wget https://raw.githubusercontent.com/bubuloMallone/Algorithms_1/refs/heads/main/datasets/2_quick_sort/testset2.txt\n",
        "\n",
        "\n",
        "dataset = open('dataset.txt', 'r')\n",
        "dataset = dataset.read().split('\\n')\n",
        "dataset = [int(x) for x in dataset if x] # Convert to list of integers, handling empty strings\n",
        "\n",
        "testset1 = open('testset1.txt', 'r')\n",
        "testset1 = testset1.read().split('\\n')\n",
        "testset1 = [int(x) for x in testset1 if x] # Convert to list of integers, handling empty strings\n",
        "\n",
        "testset2 = open('testset2.txt', 'r')\n",
        "testset2 = testset2.read().split('\\n')\n",
        "testset2 = [int(x) for x in testset2 if x] # Convert to list of integers, handling empty strings\n",
        "\n",
        "testset1\n",
        "\n"
      ]
    },
    {
      "cell_type": "code",
      "source": [
        "# Randomized In-Place QuickSort\n",
        "import random\n",
        "\n",
        "# Partition procedure:  partiton the sub-array into <=pivot portion and >pivot portion, then place pivot in correct position.\n",
        "\n",
        "def partition(arr, left, right):\n",
        "  # suppose pivot is the last element of arr\n",
        "  pivot = arr[right]\n",
        "  s = left - 1   # pointer tracking the boundary of partition <= pivot\n",
        "  for i in range(left, right):\n",
        "    if arr[i] <= pivot:\n",
        "      s += 1\n",
        "      arr[s], arr[i] = arr[i], arr[s]  # perform swap operation after incrementing boundary\n",
        "\n",
        "  # after partitioning all array need to put pivot in correct position in the middle of the two partitions\n",
        "  arr[s+1], arr[right] = arr[right], arr[s+1]  # swap pivot\n",
        "\n",
        "  # need to return the position of the pivot in order to split array into partitions\n",
        "  return s+1\n",
        "\n",
        "# Pivot selection: choose a pivot index uniformly at random, swap it with the last element, then call partition routine.\n",
        "\n",
        "def random_partition(arr, left, right):\n",
        "  # choose randomly a pivot in the vector\n",
        "  pivot_index = random.randint(left, right)\n",
        "  # put pivot element at the end of the array for consistency\n",
        "  arr[right], arr[pivot_index] = arr[pivot_index], arr[right]  # swap pivot with last element\n",
        "\n",
        "  # call array partitioning routine\n",
        "  return partition(arr, left, right)\n",
        "\n",
        "\n",
        "# QuickSort recursive routine: call QuickSort recursively on the partitions of the array, handle base case.\n",
        "\n",
        "def quicksort(array, left = 0, right = None):\n",
        "  # first call settings\n",
        "  if right == None:\n",
        "    right = len(array) - 1\n",
        "\n",
        "  # base case: sub-array of size 1  -->  do nothing, no action of that portion of the array\n",
        "\n",
        "  # recursive calls\n",
        "  if left < right:\n",
        "    pivot_index = random_partition(array, left, right)  # put pivot in correct place: find pivot index define two partitions\n",
        "    quicksort(array, left, pivot_index-1)  # apply quicksort on the left partition: recursively sort left subarray\n",
        "    quicksort(array, pivot_index+1, right)  # apply quicksort on the right partition: recursively sort right subarray\n",
        "\n",
        "  return array"
      ],
      "metadata": {
        "id": "1HugeKy6ZYgr"
      },
      "execution_count": 3,
      "outputs": []
    },
    {
      "cell_type": "markdown",
      "source": [
        "**Programming Problem: QuickSort**\n",
        "\n",
        "**Test case 1**: This file contains 10 integers, representing a 10-element array. Your program should count 25 comparisons if you always use the first element as the pivot, 31 comparisons if you always use the last element as the pivot, and 21 comparisons if you always use the median-of-3 as the pivot (not counting the comparisons used to compute the pivot).\n",
        "\n",
        "**Test case 2**: This file contains 100 integers, representing a 100-element array. Your program should count 620 comparisons if you always use the first element as the pivot, 573 comparisons if you always use the last element as the pivot, and 502 comparisons if you always use the median-of-3 as the pivot (not counting the comparisons used to compute the pivot).\n",
        "\n",
        "**Data set**: This file contains all of the integers between 1 and 10,000 (inclusive) in some order, with no integer repeated. The ith row of the file indicates the ith entry of an array. How many comparisons does QuickSort make on this input when the first element is always chosen as the pivot? If the last element is always chosen as the pivot? If the median-of-3 is always chosen as the pivot?\n",
        "\n",
        "\n",
        "Pivot choice strategy changes the comparison count:\n",
        "\n",
        "1. First element as pivot;\n",
        "2. Last element as pivot;\n",
        "3. Median-of-3 as pivot: median among first, middle, and last elements of the subarray;\n",
        "4. Random pivot: choose as pivot a random element in the sub-array."
      ],
      "metadata": {
        "id": "SV0ZIKojf-Va"
      }
    },
    {
      "cell_type": "code",
      "source": [
        "# Partition procedure:  partiton the sub-array into <=pivot portion and >pivot portion, then place pivot in correct position.\n",
        "\n",
        "def partition(arr, left, right):\n",
        "  # suppose pivot is the last element of arr\n",
        "  pivot = arr[right]\n",
        "  comparisons = right - left\n",
        "  s = left - 1   # pointer tracking the boundary of partition <= pivot\n",
        "  for i in range(left, right):\n",
        "    if arr[i] <= pivot:\n",
        "      s += 1\n",
        "      arr[s], arr[i] = arr[i], arr[s]  # perform swap operation after incrementing boundary\n",
        "\n",
        "  # after partitioning all array need to put pivot in correct position in the middle of the two partitions\n",
        "  arr[s+1], arr[right] = arr[right], arr[s+1]  # swap pivot\n",
        "\n",
        "  # need to return the position of the pivot in order to split array into partitions\n",
        "  return s+1, comparisons\n",
        "\n",
        "# Pivot selection: choose a pivot index accordingly to a strategy (first element, last element, median of first/last/), swap it with the last element, then call partition routine.\n",
        "\n",
        "def choose_pivot(arr, left, right, strategy=\"random\"):\n",
        "  # choose a pivot in the vector according to strategy\n",
        "  if strategy == \"first\":\n",
        "        pivot_index = left\n",
        "  elif strategy == \"last\":\n",
        "      pivot_index = right\n",
        "  elif strategy == \"median3\":\n",
        "      mid = left + (right - left) // 2\n",
        "      candidates = [(arr[left], left), (arr[mid], mid), (arr[right], right)]\n",
        "      candidates.sort(key=lambda x: x[0])\n",
        "      pivot_index = candidates[1][1]  # index of median value\n",
        "  elif strategy == \"random\":\n",
        "      pivot_index = random.randint(left, right)\n",
        "  else:\n",
        "      raise ValueError(\"Unknown pivot strategy: choose 'first', 'last', 'median3', or 'random'\")\n",
        "\n",
        "  # put pivot element at the end of the array for consistency\n",
        "  arr[right], arr[pivot_index] = arr[pivot_index], arr[right]\n",
        "  # call array partitioning routine\n",
        "  return partition(arr, left, right)\n",
        "\n",
        "\n",
        "# QuickSort recursive routine: call QuickSort recursively on the partitions of the array, handle base case.\n",
        "\n",
        "def quicksort(array, left = 0, right = None, strategy = 'random'):\n",
        "  # first call settings\n",
        "  if right == None:\n",
        "    right = len(array) - 1\n",
        "  tot_comparisons = 0\n",
        "\n",
        "  # base case: sub-array of size 1  -->  do nothing, no action of that portion of the array\n",
        "\n",
        "  # recursive calls\n",
        "  if left < right:\n",
        "    pivot_index, comparisons = choose_pivot(array, left, right, strategy)  # put pivot in correct place: find pivot index define two partitions\n",
        "    tot_comparisons += comparisons\n",
        "    tot_comparisons += quicksort(array, left, pivot_index-1, strategy)  # apply quicksort on the left partition: recursively sort left subarray\n",
        "    tot_comparisons += quicksort(array, pivot_index+1, right, strategy)  # apply quicksort on the right partition: recursively sort right subarray\n",
        "\n",
        "  return tot_comparisons"
      ],
      "metadata": {
        "id": "uXXtSHjpgXmN"
      },
      "execution_count": 4,
      "outputs": []
    },
    {
      "cell_type": "code",
      "source": [
        "print(\"First pivot comparisons:   \", quicksort(testset1.copy(), strategy=\"first\"))\n",
        "print(\"Last pivot comparisons:    \", quicksort(testset1.copy(), strategy=\"last\"))\n",
        "print(\"Median-of-3 comparisons:   \", quicksort(testset1.copy(), strategy=\"median3\"))\n",
        "print(\"Random pivot comparisons:  \", quicksort(testset1.copy(), strategy=\"random\"))"
      ],
      "metadata": {
        "colab": {
          "base_uri": "https://localhost:8080/"
        },
        "id": "8bm8SiKQycHY",
        "outputId": "4fdd3580-0955-4f04-c35a-549e8cd0ace2"
      },
      "execution_count": 19,
      "outputs": [
        {
          "output_type": "stream",
          "name": "stdout",
          "text": [
            "Last pivot comparisons:     29\n",
            "First pivot comparisons:    25\n",
            "Median-of-3 comparisons:    21\n",
            "Random pivot comparisons:   24\n"
          ]
        }
      ]
    },
    {
      "cell_type": "code",
      "source": [
        "print(\"First pivot comparisons:   \", quicksort(testset2.copy(), strategy=\"first\"))\n",
        "print(\"Last pivot comparisons:    \", quicksort(testset2.copy(), strategy=\"last\"))\n",
        "print(\"Median-of-3 comparisons:   \", quicksort(testset2.copy(), strategy=\"median3\"))\n",
        "print(\"Random pivot comparisons:  \", quicksort(testset2.copy(), strategy=\"random\"))"
      ],
      "metadata": {
        "id": "lqO5fuHXfh-V",
        "outputId": "7402f012-3f2e-45c2-da68-0ed48c8d5a50",
        "colab": {
          "base_uri": "https://localhost:8080/"
        }
      },
      "execution_count": 23,
      "outputs": [
        {
          "output_type": "stream",
          "name": "stdout",
          "text": [
            "First pivot comparisons:    718\n",
            "Last pivot comparisons:     592\n",
            "Median-of-3 comparisons:    500\n",
            "Random pivot comparisons:   633\n"
          ]
        }
      ]
    }
  ]
}